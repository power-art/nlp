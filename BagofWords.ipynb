{
 "cells": [
  {
   "cell_type": "code",
   "execution_count": 1,
   "metadata": {},
   "outputs": [],
   "source": [
    "import nltk"
   ]
  },
  {
   "cell_type": "code",
   "execution_count": 2,
   "metadata": {},
   "outputs": [],
   "source": [
    "paragraph = \"\"\"My dear countrymen, Namaskar! Our Mann ki Baat too has not remained untouched\n",
    "by the effect of Corona. The last time I spoke to you through ‘Mann Ki Baat' , passenger \n",
    "train services, busses and flights had come to a standstill. This time around much has\n",
    "resumed-Shramik special trains are operational; other special trains too have begun.\n",
    "With utmost precautions, flights have resumed; industry too is returning to normalcy;\n",
    "thus, opening up a major segment of the economy. In such a scenario, we need to be even more \n",
    "alert and careful. Whether it’s the mandatory two yards distancing, wearing face masks or\n",
    "staying at home to the best extent possible, there should be no laxity on our part in complete \n",
    "adherence.\n",
    "The battle against Corona is being fiercely waged in the country through collective efforts.\n",
    "When we glance at the world, we can actually experience the magnitude of the achievements of\n",
    "the people of India. Our population itself is many times that of most countries. The challenges \n",
    "facing the country too are of a different kind, yet Corona did not spread as fast as it did in\n",
    "other countries of the world. The mortality rate of corona too is a lot less in our country. \n",
    "All of us deeply regret the loss that we had to undergo. But whatever we have been able to save \n",
    "is a result of the collective resolve of the country. In a country as big as ours, everyone is\n",
    "determined to put up a fight; the entire campaign is people driven.\"\"\""
   ]
  },
  {
   "cell_type": "code",
   "execution_count": 3,
   "metadata": {},
   "outputs": [],
   "source": [
    "#cleaning the text\n",
    "import re\n",
    "from nltk.corpus import stopwords\n",
    "from nltk.stem.porter import PorterStemmer\n",
    "from nltk.stem import WordNetLemmatizer"
   ]
  },
  {
   "cell_type": "code",
   "execution_count": 4,
   "metadata": {},
   "outputs": [],
   "source": [
    "ps = PorterStemmer()\n",
    "wordnet = WordNetLemmatizer()"
   ]
  },
  {
   "cell_type": "code",
   "execution_count": 5,
   "metadata": {},
   "outputs": [],
   "source": [
    "sentences = nltk.sent_tokenize(paragraph)"
   ]
  },
  {
   "cell_type": "code",
   "execution_count": 8,
   "metadata": {},
   "outputs": [
    {
     "data": {
      "text/plain": [
       "15"
      ]
     },
     "execution_count": 8,
     "metadata": {},
     "output_type": "execute_result"
    }
   ],
   "source": [
    "len(sentences)"
   ]
  },
  {
   "cell_type": "code",
   "execution_count": 12,
   "metadata": {},
   "outputs": [],
   "source": [
    "corpus = []\n",
    "for i in range(len(sentences)):\n",
    "    review = re.sub('[^a-zA-Z]',' ',sentences[i])\n",
    "    review = review.lower()\n",
    "    review = review.split()\n",
    "    review = [ps.stem(word) for word in review if not word in set(stopwords.words('english'))]\n",
    "    review = ' '.join(review)\n",
    "    corpus.append(review)"
   ]
  },
  {
   "cell_type": "code",
   "execution_count": 14,
   "metadata": {},
   "outputs": [
    {
     "data": {
      "text/plain": [
       "['dear countrymen namaskar',\n",
       " 'mann ki baat remain untouch effect corona',\n",
       " 'last time spoke mann ki baat passeng train servic buss flight come standstil',\n",
       " 'time around much resum shramik special train oper special train begun',\n",
       " 'utmost precaut flight resum industri return normalci thu open major segment economi']"
      ]
     },
     "execution_count": 14,
     "metadata": {},
     "output_type": "execute_result"
    }
   ],
   "source": [
    "corpus[0:5]"
   ]
  },
  {
   "cell_type": "code",
   "execution_count": null,
   "metadata": {},
   "outputs": [],
   "source": [
    "from sklearn.feature_extraction.text import CountVectorizer\n"
   ]
  }
 ],
 "metadata": {
  "kernelspec": {
   "display_name": "Python 3",
   "language": "python",
   "name": "python3"
  },
  "language_info": {
   "codemirror_mode": {
    "name": "ipython",
    "version": 3
   },
   "file_extension": ".py",
   "mimetype": "text/x-python",
   "name": "python",
   "nbconvert_exporter": "python",
   "pygments_lexer": "ipython3",
   "version": "3.6.9"
  }
 },
 "nbformat": 4,
 "nbformat_minor": 4
}
